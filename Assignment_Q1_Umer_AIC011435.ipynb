{
 "cells": [
  {
   "cell_type": "markdown",
   "metadata": {},
   "source": [
    "# Area of a Circle"
   ]
  },
  {
   "cell_type": "code",
   "execution_count": 1,
   "metadata": {},
   "outputs": [
    {
     "name": "stdout",
     "output_type": "stream",
     "text": [
      "Enter the radius of the circle:0.5\n",
      "Area of the circle with radius 0.5 is : 0.79\n"
     ]
    }
   ],
   "source": [
    "PI=3.1415926535897931\n",
    "r = float(input(\"Enter the radius of the circle:\"))\n",
    "area = PI*r*r\n",
    "print(f\"Area of the circle with radius {r} is : %.2f\" %area)"
   ]
  },
  {
   "cell_type": "markdown",
   "metadata": {},
   "source": [
    "# Positive, Negative or Zero numbers"
   ]
  },
  {
   "cell_type": "code",
   "execution_count": 2,
   "metadata": {},
   "outputs": [
    {
     "name": "stdout",
     "output_type": "stream",
     "text": [
      "Enter Number :0\n",
      "Zero Number Entered.\n"
     ]
    }
   ],
   "source": [
    "num = int(input(\"Enter Number :\"))\n",
    "if num > 0:\n",
    "    print(\"Positive Number Entered.\")\n",
    "elif num == 0:\n",
    "    print(\"Zero Number Entered.\")\n",
    "else:\n",
    "    print(\"Negative Number Entered.\")"
   ]
  },
  {
   "cell_type": "code",
   "execution_count": 3,
   "metadata": {},
   "outputs": [
    {
     "name": "stdout",
     "output_type": "stream",
     "text": [
      "Enter Number :-3\n",
      "Negative Number Entered.\n"
     ]
    }
   ],
   "source": [
    "num = int(input(\"Enter Number :\"))\n",
    "if num > 0:\n",
    "    print(\"Positive Number Entered.\")\n",
    "elif num == 0:\n",
    "    print(\"Zero Number Entered.\")\n",
    "else:\n",
    "    print(\"Negative Number Entered.\")"
   ]
  },
  {
   "cell_type": "code",
   "execution_count": 4,
   "metadata": {},
   "outputs": [
    {
     "name": "stdout",
     "output_type": "stream",
     "text": [
      "Enter Number :3\n",
      "Positive Number Entered.\n"
     ]
    }
   ],
   "source": [
    "num = int(input(\"Enter Number :\"))\n",
    "if num > 0:\n",
    "    print(\"Positive Number Entered.\")\n",
    "elif num == 0:\n",
    "    print(\"Zero Number Entered.\")\n",
    "else:\n",
    "    print(\"Negative Number Entered.\")"
   ]
  },
  {
   "cell_type": "markdown",
   "metadata": {},
   "source": [
    "# Divisibility Check of two numbers"
   ]
  },
  {
   "cell_type": "code",
   "execution_count": 5,
   "metadata": {},
   "outputs": [
    {
     "name": "stdout",
     "output_type": "stream",
     "text": [
      "Enter the Numerator:4\n",
      "Enter the Denominator:3\n",
      "Number is not devisible\n"
     ]
    }
   ],
   "source": [
    "num=int(input(\"Enter the Numerator:\"))\n",
    "den=int(input(\"Enter the Denominator:\"))\n",
    "if num%den == 0:\n",
    "    print(\"Number is divisible\")\n",
    "else:\n",
    "    print(\"Number is not devisible\")"
   ]
  },
  {
   "cell_type": "code",
   "execution_count": 6,
   "metadata": {},
   "outputs": [
    {
     "name": "stdout",
     "output_type": "stream",
     "text": [
      "Enter the Numerator:4\n",
      "Enter the Denominator:2\n",
      "Number is divisible\n"
     ]
    }
   ],
   "source": [
    "num=int(input(\"Enter the Numerator:\"))\n",
    "den=int(input(\"Enter the Denominator:\"))\n",
    "if num%den == 0:\n",
    "    print(\"Number is divisible\")\n",
    "else:\n",
    "    print(\"Number is not devisible\")"
   ]
  },
  {
   "cell_type": "markdown",
   "metadata": {},
   "source": [
    "# Days Calculator"
   ]
  },
  {
   "cell_type": "code",
   "execution_count": 7,
   "metadata": {},
   "outputs": [
    {
     "name": "stdout",
     "output_type": "stream",
     "text": [
      "Start date: 07/06/2018\n",
      "End date: 04/06/2019\n",
      "There are 274 days between 2018-07-06 00:00:00 and 2019-04-06 00:00:00.\n"
     ]
    }
   ],
   "source": [
    "import datetime\n",
    "\n",
    "s=datetime.datetime.strptime(input('Start date: '), '%m/%d/%Y')\n",
    "e=datetime.datetime.strptime(input('End date: '), '%m/%d/%Y')\n",
    "remaindDays=e-s\n",
    "print(f\"There are {remaindDays.days} days between {s} and {e}.\")"
   ]
  },
  {
   "cell_type": "markdown",
   "metadata": {},
   "source": [
    "# Volume of a sphere"
   ]
  },
  {
   "cell_type": "code",
   "execution_count": 8,
   "metadata": {},
   "outputs": [
    {
     "name": "stdout",
     "output_type": "stream",
     "text": [
      "Enter the radius of the sphere:2\n",
      "The volume of the sphere with radius 2.0 is : 33.51\n"
     ]
    }
   ],
   "source": [
    "pi = 3.1415926535897931\n",
    "r = float(input(\"Enter the radius of the sphere:\"))\n",
    "V= 4.0/3.0*pi* r**3\n",
    "print(f\"The volume of the sphere with radius {r} is : %.2f\" %V)"
   ]
  },
  {
   "cell_type": "markdown",
   "metadata": {},
   "source": [
    "# Copy string n times"
   ]
  },
  {
   "cell_type": "code",
   "execution_count": 10,
   "metadata": {},
   "outputs": [
    {
     "name": "stdout",
     "output_type": "stream",
     "text": [
      "Enter String:Pakistan\n",
      "How many copies of String you need:4\n",
      "4 copies of Pakistan are  PakistanPakistanPakistanPakistan\n"
     ]
    }
   ],
   "source": [
    "string= str(input(\"Enter String:\"))\n",
    "copies = int(input(\"How many copies of String you need:\"))\n",
    "x=string*copies\n",
    "print(f\"{copies} copies of {string} are \",x)"
   ]
  },
  {
   "cell_type": "markdown",
   "metadata": {},
   "source": [
    "# Even or Odd Number check"
   ]
  },
  {
   "cell_type": "code",
   "execution_count": 11,
   "metadata": {},
   "outputs": [
    {
     "name": "stdout",
     "output_type": "stream",
     "text": [
      "Enter Number:11\n",
      "11 is Odd Number\n"
     ]
    }
   ],
   "source": [
    "num = int(input(\"Enter Number:\"))\n",
    "if num % 2==0:\n",
    "    print(f\"{num} is Even Number\")\n",
    "else:\n",
    "    print(f\"{num} is Odd Number\")"
   ]
  },
  {
   "cell_type": "code",
   "execution_count": 12,
   "metadata": {},
   "outputs": [
    {
     "name": "stdout",
     "output_type": "stream",
     "text": [
      "Enter Number:0\n",
      "0 is Even Number\n"
     ]
    }
   ],
   "source": [
    "num = int(input(\"Enter Number:\"))\n",
    "if num % 2==0:\n",
    "    print(f\"{num} is Even Number\")\n",
    "else:\n",
    "    print(f\"{num} is Odd Number\")"
   ]
  },
  {
   "cell_type": "markdown",
   "metadata": {},
   "source": [
    "# Vowel Tester"
   ]
  },
  {
   "cell_type": "code",
   "execution_count": 16,
   "metadata": {},
   "outputs": [
    {
     "name": "stdout",
     "output_type": "stream",
     "text": [
      "Enter a letter of the alphabet: e\n",
      "Letter e is a vowel.\n"
     ]
    }
   ],
   "source": [
    "l = input(\"Enter a letter of the alphabet: \")\n",
    "\n",
    "if l in ('a', 'e', 'i', 'o', 'u'):\n",
    "    print(f\"Letter {l} is a vowel.\")\n",
    "elif l == 'y':\n",
    "    print(\"Sometimes letter y stand for vowel, sometimes stand for consonant.\")\n",
    "else:\n",
    "    print(f\"Letter {l} is a consonant.\") "
   ]
  },
  {
   "cell_type": "code",
   "execution_count": 17,
   "metadata": {},
   "outputs": [
    {
     "name": "stdout",
     "output_type": "stream",
     "text": [
      "Enter a letter of the alphabet: d\n",
      "Letter d is a consonant.\n"
     ]
    }
   ],
   "source": [
    "l = input(\"Enter a letter of the alphabet: \")\n",
    "\n",
    "if l in ('a', 'e', 'i', 'o', 'u'):\n",
    "    print(f\"Letter {l} is a vowel.\")\n",
    "elif l == 'y':\n",
    "    print(\"Sometimes letter y stand for vowel, sometimes stand for consonant.\")\n",
    "else:\n",
    "    print(f\"Letter {l} is a consonant.\") "
   ]
  },
  {
   "cell_type": "code",
   "execution_count": 18,
   "metadata": {},
   "outputs": [
    {
     "name": "stdout",
     "output_type": "stream",
     "text": [
      "Enter a letter of the alphabet: i\n",
      "Letter i is a vowel.\n"
     ]
    }
   ],
   "source": [
    "l = input(\"Enter a letter of the alphabet: \")\n",
    "\n",
    "if l in ('a', 'e', 'i', 'o', 'u'):\n",
    "    print(f\"Letter {l} is a vowel.\")\n",
    "elif l == 'y':\n",
    "    print(\"Sometimes letter y stand for vowel, sometimes stand for consonant.\")\n",
    "else:\n",
    "    print(f\"Letter {l} is a consonant.\") "
   ]
  },
  {
   "cell_type": "markdown",
   "metadata": {},
   "source": [
    "# Triangle area"
   ]
  },
  {
   "cell_type": "code",
   "execution_count": 19,
   "metadata": {},
   "outputs": [
    {
     "name": "stdout",
     "output_type": "stream",
     "text": [
      "Enter Magnitude of Triangle base : 4\n",
      "Enter Magnitude of Triangle height : 4\n",
      "Area of a Triangle with Height 4 and Base 4 is  8.0\n"
     ]
    }
   ],
   "source": [
    "b = int(input(\"Enter Magnitude of Triangle base : \"))\n",
    "h = int(input(\"Enter Magnitude of Triangle height : \"))\n",
    "\n",
    "area = b*h/2\n",
    "\n",
    "print(f\"Area of a Triangle with Height {h} and Base {b} is \", area)"
   ]
  },
  {
   "cell_type": "markdown",
   "metadata": {},
   "source": [
    "# Calculate Interest"
   ]
  },
  {
   "cell_type": "code",
   "execution_count": 20,
   "metadata": {},
   "outputs": [
    {
     "name": "stdout",
     "output_type": "stream",
     "text": [
      "Please enter principal amount:10000\n",
      "Please Enter Rate of interest in %:0.1\n",
      "Enter number of years for investment:5\n",
      "After 5.0 years your principal amount 10000.0 over an interest rate of 0.1 % will be: 10050.100100050004\n"
     ]
    }
   ],
   "source": [
    "amt = float(input(\"Please enter principal amount:\"))\n",
    "int = float(input(\"Please Enter Rate of interest in %:\"))\n",
    "years = float(input(\"Enter number of years for investment:\"))\n",
    "\n",
    "future_value = amt*((1+(0.01*int)) ** years)\n",
    "print(f\"After {years} years your principal amount {amt} over an interest rate of {int} % will be:\",future_value)"
   ]
  },
  {
   "cell_type": "markdown",
   "metadata": {},
   "source": [
    "# Euclidean distance"
   ]
  },
  {
   "cell_type": "code",
   "execution_count": 2,
   "metadata": {},
   "outputs": [
    {
     "name": "stdout",
     "output_type": "stream",
     "text": [
      "Enter Co-ordinate for x1: 2\n",
      "Enter Co-ordinate for x2: 4\n",
      "Enter Co-ordinate for y1: 4\n",
      "Enter Co-ordinate for y2: 4\n",
      "Distance between points(2,4) and (4,4) is  2.0\n"
     ]
    }
   ],
   "source": [
    "import math\n",
    "\n",
    "x1 = int(input(\"Enter Co-ordinate for x1: \"))\n",
    "x2 = int(input(\"Enter Co-ordinate for x2: \"))\n",
    "y1 = int(input(\"Enter Co-ordinate for y1: \"))\n",
    "y2 = int(input(\"Enter Co-ordinate for y2: \"))\n",
    "\n",
    "D = math.sqrt(((x1 - x2)**2)+((y1 - y2)**2))\n",
    "print(f\"Distance between points({x1},{y1}) and ({x2},{y2}) is \", D)"
   ]
  },
  {
   "cell_type": "markdown",
   "metadata": {},
   "source": [
    "# Feet to Centimeter Converter"
   ]
  },
  {
   "cell_type": "code",
   "execution_count": 7,
   "metadata": {},
   "outputs": [
    {
     "name": "stdout",
     "output_type": "stream",
     "text": [
      "Input your height in Feet: 5\n",
      "Your height is : 152.4 cm in 5 ft \n"
     ]
    }
   ],
   "source": [
    "h_ft = int(input(\"Input your height in Feet: \"))\n",
    "h_cm = h_ft * 30.48\n",
    "\n",
    "print(f\"Your height is : {h_cm} cm in {h_ft} ft \")"
   ]
  },
  {
   "cell_type": "markdown",
   "metadata": {},
   "source": [
    "# BMI Calculator"
   ]
  },
  {
   "cell_type": "code",
   "execution_count": 16,
   "metadata": {},
   "outputs": [
    {
     "name": "stdout",
     "output_type": "stream",
     "text": [
      "Enter Height in Cm: 180\n",
      "Enter Weight in Kg: 75\n",
      "Your BMI is:  23.15\n"
     ]
    }
   ],
   "source": [
    "height = float(input(\"Enter Height in Cm: \"))\n",
    "weight = float(input(\"Enter Weight in Kg: \"))\n",
    "BMI=round(weight/((height/100)**2),2)\n",
    "print(\"Your BMI is: \", BMI)"
   ]
  },
  {
   "cell_type": "markdown",
   "metadata": {},
   "source": [
    "# Sum of n Positive Integers"
   ]
  },
  {
   "cell_type": "code",
   "execution_count": 20,
   "metadata": {},
   "outputs": [
    {
     "name": "stdout",
     "output_type": "stream",
     "text": [
      "Enter value of n: 5\n",
      "Sum of n Positive integers till 5 is  15.0\n"
     ]
    }
   ],
   "source": [
    "n = int(input(\"Enter value of n: \"))\n",
    "sum_num = (n * (n + 1)) / 2\n",
    "print(f\"Sum of n Positive integers till {n} is \",sum_num)"
   ]
  },
  {
   "cell_type": "markdown",
   "metadata": {},
   "source": [
    "# Digits Sum of a Number"
   ]
  },
  {
   "cell_type": "code",
   "execution_count": 33,
   "metadata": {},
   "outputs": [
    {
     "name": "stdout",
     "output_type": "stream",
     "text": [
      "Input a four digit numbers: 6784\n",
      "The sum of 6+7+8+4 in the number is 25\n"
     ]
    }
   ],
   "source": [
    "num = int(input(\"Input a four digit numbers: \"))\n",
    "x  = num //1000\n",
    "x1 = (num - x*1000)//100\n",
    "x2 = (num - x*1000 - x1*100)//10\n",
    "x3 = num - x*1000 - x1*100 - x2*10\n",
    "print(f\"The sum of {x}+{x1}+{x2}+{x3} in the number is\", x+x1+x2+x3)"
   ]
  },
  {
   "cell_type": "markdown",
   "metadata": {},
   "source": [
    "# Decimal to Binary Converter"
   ]
  },
  {
   "cell_type": "code",
   "execution_count": 43,
   "metadata": {},
   "outputs": [
    {
     "name": "stdout",
     "output_type": "stream",
     "text": [
      "Enter decimal number: 5\n",
      "Binary Representation of 5 is  0b101\n"
     ]
    }
   ],
   "source": [
    "n=int(input('Enter decimal number: '))\n",
    "print(f\"Binary Representation of {n} is \",bin(n))"
   ]
  },
  {
   "cell_type": "code",
   "execution_count": 44,
   "metadata": {},
   "outputs": [
    {
     "name": "stdout",
     "output_type": "stream",
     "text": [
      "Enter decimal number: 5\n",
      "The binary no. for 5 is 0101\n"
     ]
    }
   ],
   "source": [
    "n=int(input('Enter decimal number: '))\n",
    "x=n\n",
    "k=[]\n",
    "while (n>0):\n",
    "    a=int(float(n%2))\n",
    "    k.append(a)\n",
    "    n=(n-a)/2\n",
    "k.append(0)\n",
    "string=\"\"\n",
    "for j in k[::-1]:\n",
    "    string=string+str(j)\n",
    "print('The binary no. for %d is %s'%(x, string))"
   ]
  },
  {
   "cell_type": "code",
   "execution_count": 45,
   "metadata": {},
   "outputs": [
    {
     "name": "stdout",
     "output_type": "stream",
     "text": [
      "Enter decimal number: 32\n",
      "The binary no. for 32 is 0100000\n"
     ]
    }
   ],
   "source": [
    "n=int(input('Enter decimal number: '))\n",
    "x=n\n",
    "k=[]\n",
    "while (n>0):\n",
    "    a=int(float(n%2))\n",
    "    k.append(a)\n",
    "    n=(n-a)/2\n",
    "k.append(0)\n",
    "string=\"\"\n",
    "for j in k[::-1]:\n",
    "    string=string+str(j)\n",
    "print('The binary no. for %d is %s'%(x, string))"
   ]
  },
  {
   "cell_type": "markdown",
   "metadata": {},
   "source": [
    "# Binary to Decimal Converter"
   ]
  },
  {
   "cell_type": "code",
   "execution_count": 59,
   "metadata": {},
   "outputs": [
    {
     "name": "stdout",
     "output_type": "stream",
     "text": [
      "Enter a Binary number: 1101\n",
      "Decimal digit is 13\n"
     ]
    }
   ],
   "source": [
    "b_num = list(input(\"Enter a Binary number: \"))\n",
    "value = 0\n",
    "\n",
    "for i in range(len(b_num)):\n",
    "    digit = b_num.pop()\n",
    "    if digit == '1':\n",
    "        value = value + pow(2, i)\n",
    "print(f\"Decimal digit is\", value)"
   ]
  },
  {
   "cell_type": "code",
   "execution_count": 60,
   "metadata": {},
   "outputs": [
    {
     "name": "stdout",
     "output_type": "stream",
     "text": [
      "Enter a Binary number: 1001\n",
      "Decimal digit is 9\n"
     ]
    }
   ],
   "source": [
    "b_num = list(input(\"Enter a Binary number: \"))\n",
    "value = 0\n",
    "\n",
    "for i in range(len(b_num)):\n",
    "    digit = b_num.pop()\n",
    "    if digit == '1':\n",
    "        value = value + pow(2, i)\n",
    "print(f\"Decimal digit is\", value)"
   ]
  },
  {
   "cell_type": "markdown",
   "metadata": {},
   "source": [
    "# Vowel and Consonants Counter"
   ]
  },
  {
   "cell_type": "code",
   "execution_count": 68,
   "metadata": {},
   "outputs": [
    {
     "name": "stdout",
     "output_type": "stream",
     "text": [
      "Enter text : wellcometoTheKarachi\n",
      "Total Number of Vowels in this String are 8\n",
      "Total Number of Consonants in this String are 12\n"
     ]
    }
   ],
   "source": [
    "str1 = input(\"Enter text : \")\n",
    "vowels = 0\n",
    "consonants = 0\n",
    "\n",
    "for i in str1:\n",
    "    if(i == 'a' or i == 'e' or i == 'i' or i == 'o' or i == 'u'\n",
    "       or i == 'A' or i == 'E' or i == 'I' or i == 'O' or i == 'U'):\n",
    "        vowels = vowels + 1\n",
    "    else:\n",
    "        consonants = consonants + 1\n",
    "print(\"Total Number of Vowels in this String are\", vowels)\n",
    "print(\"Total Number of Consonants in this String are\", consonants)"
   ]
  },
  {
   "cell_type": "markdown",
   "metadata": {},
   "source": [
    "# Palindrome Tester"
   ]
  },
  {
   "cell_type": "code",
   "execution_count": 69,
   "metadata": {},
   "outputs": [
    {
     "name": "stdout",
     "output_type": "stream",
     "text": [
      "Enter String:WellComeToTheKarachi\n",
      "It is not palindrome\n"
     ]
    }
   ],
   "source": [
    "my_str = str(input(\"Enter String:\"))\n",
    "my_str = my_str.casefold()\n",
    "\n",
    "rev_str = reversed(my_str)\n",
    "\n",
    "if list(my_str) == list(rev_str):\n",
    "    print(\"It is palindrome\")\n",
    "else:\n",
    "    print(\"It is not palindrome\")"
   ]
  },
  {
   "cell_type": "code",
   "execution_count": 70,
   "metadata": {},
   "outputs": [
    {
     "name": "stdout",
     "output_type": "stream",
     "text": [
      "Enter String:aIboUObiA\n",
      "It is palindrome\n"
     ]
    }
   ],
   "source": [
    "my_str = str(input(\"Enter String:\"))\n",
    "my_str = my_str.casefold()\n",
    "\n",
    "rev_str = reversed(my_str)\n",
    "\n",
    "if list(my_str) == list(rev_str):\n",
    "    print(\"It is palindrome\")\n",
    "else:\n",
    "    print(\"It is not palindrome\")"
   ]
  },
  {
   "cell_type": "markdown",
   "metadata": {},
   "source": [
    "# Count Alphabets, Numbers and Special Characters"
   ]
  },
  {
   "cell_type": "code",
   "execution_count": 77,
   "metadata": {},
   "outputs": [
    {
     "name": "stdout",
     "output_type": "stream",
     "text": [
      "Enter String: Python 3.2 !\n",
      "\n",
      "Alphabets :   6\n",
      "Numbers :   2\n",
      "Spaces : 2\n",
      "Special Characters :  2\n"
     ]
    }
   ],
   "source": [
    "string = input(\"Enter String: \")\n",
    "d=a=s=sp=0\n",
    "for i in string:\n",
    "    if i.isdigit():\n",
    "        d=d+1\n",
    "    elif i.isalpha():\n",
    "        a=a+1\n",
    "    elif i.isspace():\n",
    "        sp=sp+1\n",
    "    else:\n",
    "        s=s+1\n",
    "print(\"\\nAlphabets :  \", a)\n",
    "print(\"Numbers :  \", d)\n",
    "print(\"Spaces :\", sp)\n",
    "print(\"Special Characters : \", s)"
   ]
  },
  {
   "cell_type": "code",
   "execution_count": 83,
   "metadata": {},
   "outputs": [
    {
     "name": "stdout",
     "output_type": "stream",
     "text": [
      "\n",
      "* \n",
      "* * \n",
      "* * * \n",
      "* * * * \n",
      "* * * * * \n",
      "* * * * \n",
      "* * * \n",
      "* * \n",
      "* \n"
     ]
    }
   ],
   "source": [
    "n=5;\n",
    "for i in range(n):\n",
    "    for j in range(i):\n",
    "        print ('* ', end=\"\")\n",
    "    print('')\n",
    "\n",
    "for i in range(n,0,-1):\n",
    "    for j in range(i):\n",
    "        print('* ', end=\"\")\n",
    "    print('')"
   ]
  },
  {
   "cell_type": "code",
   "execution_count": 101,
   "metadata": {},
   "outputs": [
    {
     "name": "stdout",
     "output_type": "stream",
     "text": [
      "1\n",
      "12\n",
      "123\n",
      "1234\n",
      "12345\n"
     ]
    }
   ],
   "source": [
    "for i in range(1,6):\n",
    "    for j in range(1,i+1):\n",
    "        print(j,end=\"\")\n",
    "    print()"
   ]
  },
  {
   "cell_type": "code",
   "execution_count": 106,
   "metadata": {},
   "outputs": [
    {
     "name": "stdout",
     "output_type": "stream",
     "text": [
      "Enter a num: 10\n",
      "1\n",
      "12\n",
      "123\n",
      "1234\n",
      "12345\n",
      "123456\n",
      "1234567\n",
      "12345678\n",
      "123456789\n",
      "12345678910\n",
      "123456789\n",
      "12345678\n",
      "1234567\n",
      "123456\n",
      "12345\n",
      "1234\n",
      "123\n",
      "12\n",
      "1\n"
     ]
    }
   ],
   "source": [
    "n = int(input(\"Enter a num: \"))\n",
    "for i in range(1,n):\n",
    "    for j in range(1,i+1):\n",
    "        print(j,end=\"\")\n",
    "    print()\n",
    "for i in range(n,0,-1):\n",
    "    for j in range(1,i+1):\n",
    "        print(j,end=\"\")\n",
    "    print()"
   ]
  },
  {
   "cell_type": "code",
   "execution_count": 116,
   "metadata": {},
   "outputs": [
    {
     "name": "stdout",
     "output_type": "stream",
     "text": [
      "Enter a number of row: 9\n",
      "1\n",
      "22\n",
      "333\n",
      "4444\n",
      "55555\n",
      "666666\n",
      "7777777\n",
      "88888888\n",
      "999999999\n"
     ]
    }
   ],
   "source": [
    "n=int(input(\"Enter a number of row: \"))\n",
    "count=1\n",
    "for row in range(1,n+1):\n",
    "    for col in range(1,row+count):\n",
    "        print(row,end=\"\")\n",
    "    print()"
   ]
  },
  {
   "cell_type": "code",
   "execution_count": null,
   "metadata": {},
   "outputs": [],
   "source": []
  }
 ],
 "metadata": {
  "kernelspec": {
   "display_name": "Python 3",
   "language": "python",
   "name": "python3"
  },
  "language_info": {
   "codemirror_mode": {
    "name": "ipython",
    "version": 3
   },
   "file_extension": ".py",
   "mimetype": "text/x-python",
   "name": "python",
   "nbconvert_exporter": "python",
   "pygments_lexer": "ipython3",
   "version": "3.6.4"
  }
 },
 "nbformat": 4,
 "nbformat_minor": 2
}
